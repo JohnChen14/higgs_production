{
 "cells": [
  {
   "cell_type": "code",
   "execution_count": 1,
   "id": "056b89d2-cbd6-4b87-8767-fc1a9d4bf37f",
   "metadata": {},
   "outputs": [],
   "source": [
    "# Higgs Production at LO and NLO\n",
    "#\n",
    "# Author: Hao Chen 陈豪 (Zhejiang University)\n",
    "#\n",
    "# Reference: \n",
    "# e.g. Page 2-4 of https://arxiv.org/pdf/hep-ph/0306211.pdf\n",
    "# Catani, S., de Florian, D., Grazzini, M. and Nason, P., 2003. Soft-gluon resummation for Higgs boson production at hadron colliders. Journal of High Energy Physics, 2003(07), p.028."
   ]
  },
  {
   "cell_type": "code",
   "execution_count": 2,
   "id": "a56c1d66-1b19-4af1-9f3d-a48f75f51302",
   "metadata": {},
   "outputs": [],
   "source": [
    "import numpy as np\n",
    "import scipy.integrate as integrate"
   ]
  },
  {
   "cell_type": "code",
   "execution_count": 3,
   "id": "afce2f4d-6ada-4ac6-b71f-dcfa6756ef27",
   "metadata": {},
   "outputs": [],
   "source": [
    "# unit conversion: 1 picobarn = 2.56819e-9 GeV\n",
    "one_pb = 2.56819e-9"
   ]
  },
  {
   "cell_type": "code",
   "execution_count": 4,
   "id": "bc504bd4-7e08-4172-9b74-a6841d53c0a6",
   "metadata": {},
   "outputs": [],
   "source": [
    "# Constants\n",
    "\n",
    "# color factors\n",
    "nf = 5; CF = 4/3;CA = 3;TF = 1/2;\n",
    "zeta3 = 1.20205690315959; # zeta function value zeta(3) \n",
    "\n",
    "# QCD beta function constants\n",
    "beta0 = (11*CA)/3 - (4*nf*TF)/3\n",
    "beta1 = (34*CA**2)/3 - (20*CA*nf*TF)/3 - 4*CF*nf*TF\n",
    "beta2 = (2857*CA**3)/54 + ((-1415*CA**2)/27 - (205*CA*CF)/9 + 2*CF**2)*nf*TF + ((158*CA)/27 + (44*CF)/9)*nf**2*TF**2\n",
    "beta3 = 149753/6 + (1093*nf**3)/729 + nf*(-1078361/162 - (6508*zeta3)/27) + 3564*zeta3 + nf**2*(50065/162 + (6472*zeta3)/81)\n",
    "Beta1 = beta1/beta0; Beta2 = beta2/beta0; Beta3 = beta3/beta0;\n",
    "\n",
    "mu0 = 10; lambda_QCD = 213/1000; ll0 = 2*np.log(mu0/lambda_QCD);\n",
    "\n",
    "# Running coupling a_s = alpha_s/4*pi\n",
    "def a_s(mu):\n",
    "    t = 2*np.log(mu) - 2*np.log(mu0) \n",
    "    ll = t + ll0 \n",
    "    LL = beta0 * ll\n",
    "    return (1 + Beta3/(2*LL**3) + Beta2/LL**2 - (3*Beta1*Beta2*np.log(ll))/LL**3 - (Beta1*np.log(ll))/LL + (Beta1**2*(-1 - np.log(ll) + np.log(ll)**2))/LL**2 + (Beta1**3*(-1/2 + 2*np.log(ll) + (5*np.log(ll)**2)/2 - np.log(ll)**3))/LL**3)/LL\n",
    "\n",
    "alpha_s = lambda mu: a_s(mu) * 4 * np.pi"
   ]
  },
  {
   "cell_type": "code",
   "execution_count": 5,
   "id": "2468d802-244b-4512-9c7b-1b9beca9f488",
   "metadata": {},
   "outputs": [],
   "source": [
    "# Parameters\n",
    "m_H = 125 # Higgs mass\n",
    "m_t = 162.7 # top quark mass\n",
    "m_b = 4.18 # b quark mass\n",
    "\n",
    "# Fermi constant\n",
    "G_F = 1.16639e-5\n",
    "\n",
    "# scale setting\n",
    "mu_R = m_H/2 # scale for alpha_s\n",
    "mu_F = m_H/2 # scale for Parton Distribution Function (PDF)\n",
    "\n",
    "\n",
    "# Born level constant definition\n",
    "# see eq. (3) (4) in the reference\n",
    "def A_Q(x):\n",
    "    if x>= 1:\n",
    "        return 3*x/2*(1 + (1 - x) * np.arcsin(1/np.sqrt(x))**2)\n",
    "    else:\n",
    "        return 3*x/2*(1 + (1 - x) * (-1/4) * (np.log((1+np.sqrt(1-x))/(1-np.sqrt(1-x)))+np.pi * 1j)**2)\n",
    "\n",
    "sigma_0 = G_F/(288 * np.pi * np.sqrt(2)) * abs(A_Q(4*(m_t/m_H)**2) + A_Q(4*(m_b/m_H)**2) )**2\n",
    "\n",
    "# sigma_0 in the unit of picobarn\n",
    "sigma_0_pb = sigma_0/one_pb"
   ]
  },
  {
   "cell_type": "markdown",
   "id": "cf5249d7-8a08-4f86-934b-0dd1d7ebc006",
   "metadata": {},
   "source": [
    "Kinematic variables: \n",
    "\n",
    "$z=m_h^2/\\hat{s}$ where $\\hat{s}$ is the partonic center-of-mass energy squared\n",
    "\n",
    "$\\tau = m_h^2/s$ with $s$ being the hadronic center-of-mass energy squared"
   ]
  },
  {
   "cell_type": "markdown",
   "id": "a84b0c50-59df-4a08-9f7c-56ebbe309cf9",
   "metadata": {},
   "source": [
    "Relation of hadronic cross section $\\sigma(\\tau)$ to partonic cross section $\\hat{\\sigma}(z, \\alpha_s(\\mu_R), \\mu_F)$ via \n",
    "parton distribution functions $f_i(x, \\mu_F)$:\n",
    "\n",
    "$$\\sigma(\\tau) = \\sum_{i,j} \\tau \\int_0^1 \\frac{dx}{x}\\frac{dz}{z} f_i(x, \\mu_F)f_j\\left(\\frac{\\tau}{x z}, \\mu_F \\right) \\frac{\\hat{\\sigma}_{ij}(z, \\alpha_s(\\mu_R), \\mu_F)}{z}\\,.$$\n",
    "\n",
    "In the following, we will use\n",
    "$$\\sigma^{(0)} G_{ij}(z, \\alpha_s(\\mu_R), \\mu_F) = \\frac{1}{z}\\hat{\\sigma}(z, \\alpha_s(\\mu_R), \\mu_F)\\, .$$\n",
    "\n",
    "Partonic function $G_{ij}$ has the perturbative expansion w.r.t. strong coupling constant $\\alpha_s(\\mu_R)$:\n",
    "$$ G_{ij} = \\alpha_s^2(\\mu_R) \\left(G_{ij}^{(0)} + \\frac{\\alpha_s(\\mu_R)}{\\pi} G_{ij}^{(1)} + \\cdots\\right). $$"
   ]
  },
  {
   "cell_type": "code",
   "execution_count": 6,
   "id": "696991a7-219a-41c5-9579-0d8667b0edf3",
   "metadata": {},
   "outputs": [],
   "source": [
    "# load pdf with LHAPDF\n",
    "import lhapdf\n",
    "p = lhapdf.mkPDF(\"CT10nlo\", 0)\n",
    "p = lhapdf.mkPDF(\"CT10nlo/0\")\n",
    "\n",
    "# Usage:\n",
    "# e.g.\n",
    "# for pid in p.flavors():\n",
    "#    print(p.xfxQ(pid, 0.01, 91.2))\n",
    "\n",
    "# Partical ID\n",
    "# pid = 21 is gluon\n",
    "# pid = (-)n is a(n) (anti)-quark with n = 1,2,3,4,5\n",
    "\n",
    "# Note: \n",
    "# xfxQ(i, x, Q) is not PDF f_i(x, Q) itself, it is PDF times the momentum fraction x*f_i(x, Q)"
   ]
  },
  {
   "cell_type": "markdown",
   "id": "26950dce-ae1b-419e-9b31-1d2e737621d6",
   "metadata": {},
   "source": [
    "We define the luminosity kernel function that only involves PDF:\n",
    "$$ \n",
    "dx\\, dz\\, K_{ij} (\\tau, x, z, \\mu_F)= dx\\, dz\\, \\frac{1}{x} \\left[ x\\, f_i(x, \\mu_F)\\right]\\left[\\frac{\\tau}{x z} f_{j}\\left(\\frac{\\tau}{x z}, \\mu_F\\right)\\right]\\,.\n",
    "$$\n",
    "The function $x\\, f_i(x,\\mu_F)$ is accessible through interface function `xfxQ(i, x, mu_F)` in LHAPDF.\n",
    "\n",
    "Note that PDF $f_i(x, \\mu_F)$ contains the Heaviside function $\\Theta(0 \\leq x\\leq 1)$."
   ]
  },
  {
   "cell_type": "code",
   "execution_count": 7,
   "id": "b32b8543-cd00-4ff2-8520-741351adf31d",
   "metadata": {},
   "outputs": [],
   "source": [
    "# luminosity functions\n",
    "def kernel_gg(tau, x, z, mu_F):\n",
    "    x2 = tau/x/z\n",
    "    if x2 < 1:\n",
    "        return  p.xfxQ(21, x, mu_F) * p.xfxQ(21, x2, mu_F)/x\n",
    "    else:\n",
    "        return 0\n",
    "    \n",
    "def kernel_qg(tau, x, z, mu_F):\n",
    "    x2 = tau/x/z\n",
    "    if x2 < 1:\n",
    "        q_pdf_sum_1 = sum([p.xfxQ(n, x, mu_F) for n in range(1,6)]) + sum([p.xfxQ(n, x, mu_F) for n in range(-5,0)])\n",
    "        q_pdf_sum_2 = sum([p.xfxQ(n, x2, mu_F) for n in range(1,6)]) + sum([p.xfxQ(n, x2, mu_F) for n in range(-5,0)])\n",
    "        return (p.xfxQ(21, x, mu_F) * q_pdf_sum_2 + q_pdf_sum_1 * p.xfxQ(21, x2, mu_F) )/x\n",
    "    else:\n",
    "        return 0\n",
    "    \n",
    "def kernel_qqb(tau, x, z, mu_F):\n",
    "    x2 = tau/x/z\n",
    "    if x2 < 1:\n",
    "        return  (\n",
    "            sum([p.xfxQ(n, x, mu_F) * p.xfxQ(-n, x2, mu_F) for n in range(1,6)]) + sum([p.xfxQ(n, x, mu_F) * p.xfxQ(-n, x2, mu_F) for n in range(-5,0)])\n",
    "        )/x\n",
    "    else:\n",
    "        return 0"
   ]
  },
  {
   "cell_type": "markdown",
   "id": "3c394000-6e33-4644-ab7b-85bad6d18d2f",
   "metadata": {},
   "source": [
    "At LO, $G_{ij}^{(0)}=\\delta_{i g}\\delta_{j g} \\delta(1-z)$, we have\n",
    "$$\n",
    "\\sigma^{\\mathrm{LO}}(\\tau) = \\sigma^{(0)} \\alpha_s(\\mu_R)^2 \\int_{0}^{1} dx\\, K_{gg}(\\tau, x, z = 1, \\mu_F) \n",
    "$$"
   ]
  },
  {
   "cell_type": "code",
   "execution_count": 8,
   "id": "8806cf23-cd14-4739-ba16-3c02b62f7b33",
   "metadata": {},
   "outputs": [],
   "source": [
    "# LO cross section\n",
    "def sigma_LO(Q, mu_F, mu_R):\n",
    "    tau = (m_H/Q)**2\n",
    "    return sigma_0_pb * (alpha_s(mu_R))**2 * integrate.quad(lambda x:  kernel_gg(tau, x, 1, mu_F), 0, 1, maxp1=200, limit=200)[0]"
   ]
  },
  {
   "cell_type": "code",
   "execution_count": 9,
   "id": "ad0b1c84-2237-49af-8396-cfe529313b6e",
   "metadata": {},
   "outputs": [
    {
     "name": "stdout",
     "output_type": "stream",
     "text": [
      "14.878355679340281\n"
     ]
    }
   ],
   "source": [
    "# LO result (13 TeV)\n",
    "LO_result = sigma_LO(13*1000, mu_F, mu_R)\n",
    "print(LO_result)"
   ]
  },
  {
   "cell_type": "code",
   "execution_count": 10,
   "id": "b3043e38-fd73-48e0-a13a-d0ed0a1213eb",
   "metadata": {},
   "outputs": [],
   "source": [
    "# NLO functions\n",
    "# can be found in eq. (8)-(10) in the given reference\n",
    "P_gg_reg = lambda z: 6 * (1/z - 2 + z*(1-z))\n",
    "P_gq = lambda z: 4/3*(1 + (1-z)**2)/z\n",
    "\n",
    "# gg delta function part\n",
    "def G1_gg_delta(mu_F, mu_R):\n",
    "    return 11/2 + np.pi**2 + (33 - 2 * nf)/6 * 2 * np.log(mu_R/mu_F)\n",
    "# gg plus distribution part\n",
    "def G1_gg_plus(z, mu_F, mu_R):\n",
    "    return 12 * np.log(1-z)/(1-z) + 6 * 2 * np.log(m_H/mu_F)/(1 - z)\n",
    "# gg normal function part\n",
    "def G1_gg_normal(z, mu_F, mu_R):\n",
    "    return P_gg_reg(z) * np.log(((1-z)*m_H/mu_F)**2 /z) - 6*np.log(z)/(1-z) - 11/2*(1-z)**3 /z\n",
    "\n",
    "def G1_gq_normal(z, mu_F, mu_R):\n",
    "    return 1/2*P_gq(z)*np.log(((1-z)*m_H/mu_F)**2 /z) + 2/3*z - (1-z)**2/z\n",
    "\n",
    "def G1_qqb_normal(z, mu_F, mu_R):\n",
    "    return 32/27*(1-z)**3/z"
   ]
  },
  {
   "cell_type": "code",
   "execution_count": 11,
   "id": "5a942712-f4db-482b-a54d-93356a2b5062",
   "metadata": {},
   "outputs": [],
   "source": [
    "# NLO cross section\n",
    "def sigma_NLO(Q, mu_F, mu_R):\n",
    "    tau = (m_H/Q)**2\n",
    "    gg_integral_delta = integrate.quad(lambda x:  kernel_gg(tau, x, 1, mu_F), tau, 1, maxp1=200, limit=200)[0] * G1_gg_delta(mu_F, mu_R)\n",
    "    gg_integral_plus = integrate.dblquad(lambda x, z: (kernel_gg(tau, x, z, mu_F) - kernel_gg(tau, x, 1, mu_F)) * G1_gg_plus(z, mu_F, mu_R), 0, 1, lambda x:0, lambda x:1 , epsabs=1e-6,epsrel=1e-4)[0]\n",
    "    gg_integral_normal = integrate.dblquad(lambda x, z: kernel_gg(tau, x, z, mu_F) * G1_gg_normal(z, mu_F, mu_R), 0, 1, lambda x:0, lambda x:1 ,epsabs=1e-6, epsrel=1e-4)[0]\n",
    "    \n",
    "    gq_integral_normal = integrate.dblquad(lambda x, z: kernel_qg(tau, x, z, mu_F) * G1_gq_normal(z, mu_F, mu_R), 0, 1, lambda x:0, lambda x:1 ,epsabs=1e-6, epsrel=1e-4)[0]\n",
    "    \n",
    "    qqb_integral_normal = integrate.dblquad(lambda x, z: kernel_qqb(tau, x, z, mu_F) * G1_qqb_normal(z, mu_F, mu_R), 0, 1, lambda x:0, lambda x:1 ,epsabs=1e-6, epsrel=1e-4)[0]\n",
    "    return alpha_s(mu_R)**3/np.pi * sigma_0_pb * (gg_integral_delta + gg_integral_plus + gg_integral_normal + gq_integral_normal + qqb_integral_normal)"
   ]
  },
  {
   "cell_type": "code",
   "execution_count": 12,
   "id": "7082876c-3dc7-48d2-8d98-0c6684876bb9",
   "metadata": {},
   "outputs": [
    {
     "name": "stdout",
     "output_type": "stream",
     "text": [
      "19.359977796449087\n"
     ]
    }
   ],
   "source": [
    "# NLO corrections (13 TeV)\n",
    "NLO_corrections = sigma_NLO(13*1000, mu_F, mu_R)\n",
    "print(NLO_corrections)"
   ]
  },
  {
   "cell_type": "code",
   "execution_count": 13,
   "id": "207cc84f",
   "metadata": {},
   "outputs": [
    {
     "name": "stdout",
     "output_type": "stream",
     "text": [
      "34.23833347578937\n"
     ]
    }
   ],
   "source": [
    "# total cross section = LO result + NLO corrections (13 TeV)\n",
    "total_Xsec = LO_result + NLO_corrections\n",
    "print(total_Xsec)"
   ]
  }
 ],
 "metadata": {
  "kernelspec": {
   "display_name": "Python 3",
   "language": "python",
   "name": "python3"
  },
  "language_info": {
   "codemirror_mode": {
    "name": "ipython",
    "version": 3
   },
   "file_extension": ".py",
   "mimetype": "text/x-python",
   "name": "python",
   "nbconvert_exporter": "python",
   "pygments_lexer": "ipython3",
   "version": "3.8.8"
  }
 },
 "nbformat": 4,
 "nbformat_minor": 5
}
